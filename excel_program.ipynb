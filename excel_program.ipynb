{
 "cells": [
  {
   "cell_type": "code",
   "execution_count": null,
   "id": "707e2245",
   "metadata": {},
   "outputs": [],
   "source": [
    "import pyautogui as pgui\n",
    "import time\n",
    "\n",
    "#キーボードのWinキーを押す\n",
    "pgui.press('win')\n",
    "time.sleep(1)\n",
    "#キーボードでexcelと入力\n",
    "pgui.write('e')\n",
    "pgui.write('x')\n",
    "pgui.write('c')\n",
    "pgui.write('e')\n",
    "pgui.write('l')\n",
    "#画面が表示されるまで待機\n",
    "time.sleep(1)\n",
    "#キーボードのエンターを入力してEXCELを起動\n",
    "pgui.press('enter')\n",
    "#エクセルが起動するまで待機する。時間が読めないので、次の操作で使う画像の認識で判定\n",
    "while pgui.locateOnScreen('empty_book.jpg' , confidence=0.9) is None:\n",
    "    time.sleep(1)\n",
    "#空白のブックアイコンの座標を取得\n",
    "position=pgui.locateOnScreen('empty_book.jpg' , confidence=0.9)\n",
    "#空白のブックアイコンをクリック\n",
    "pgui.click(position)\n",
    "#選択されているセルに任意の文字列を入力\n",
    "pgui.write('Hello PyAutoGui')\n",
    "#入力が完了するまで待機する\n",
    "time.sleep(3)\n",
    "#上書き保存のショートカットを入力\n",
    "pgui.hotkey('ctrl','s')\n",
    "#名前を付けて保存画面が表示されるのを待機する\n",
    "time.sleep(3)\n",
    "#このPCアイコンの座標を取得\n",
    "position=pgui.locateOnScreen('this_pc.jpg' , confidence=0.9)\n",
    "#このPCアイコンをクリック\n",
    "pgui.click(position)\n",
    "#画面遷移を待機する\n",
    "time.sleep(1)\n",
    "#キーボードのtabを3回押してファイル名入力のテキストボックスまで移動\n",
    "pgui.press('tab',presses=3)\n",
    "#キーボードでファイル名を入力\n",
    "pgui.write('pytest')\n",
    "#キーボードのエンターキーを押す\n",
    "pgui.press('enter')\n",
    "#キーボードのALT+F4を押してでExcel終了\n",
    "pgui.hotkey('alt','f4')"
   ]
  },
  {
   "cell_type": "code",
   "execution_count": null,
   "id": "3ccf615a",
   "metadata": {},
   "outputs": [],
   "source": []
  },
  {
   "cell_type": "code",
   "execution_count": null,
   "id": "ca57c59a",
   "metadata": {},
   "outputs": [],
   "source": []
  },
  {
   "cell_type": "code",
   "execution_count": null,
   "id": "5e25b412",
   "metadata": {},
   "outputs": [],
   "source": []
  }
 ],
 "metadata": {
  "kernelspec": {
   "display_name": "Python 3",
   "language": "python",
   "name": "python3"
  },
  "language_info": {
   "codemirror_mode": {
    "name": "ipython",
    "version": 3
   },
   "file_extension": ".py",
   "mimetype": "text/x-python",
   "name": "python",
   "nbconvert_exporter": "python",
   "pygments_lexer": "ipython3",
   "version": "3.8.3"
  }
 },
 "nbformat": 4,
 "nbformat_minor": 5
}

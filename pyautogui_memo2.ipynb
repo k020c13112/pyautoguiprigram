{
 "cells": [
  {
   "cell_type": "code",
   "execution_count": null,
   "id": "parliamentary-classics",
   "metadata": {},
   "outputs": [],
   "source": [
    "import pyautogui\n",
    "import time\n",
    "import pyperclip\n",
    "import cv2\n",
    "import matplotlib.pyplot as plt\n"
   ]
  },
  {
   "cell_type": "code",
   "execution_count": null,
   "id": "favorite-scope",
   "metadata": {},
   "outputs": [],
   "source": [
    "img = cv2.imread(\"C:\\Users\\k020c\\Downloads\\kensakuran.png\")\n",
    "pyaugotui.locateOnScreen('img' , confidence=0.9)\n",
    "pyautogui.click()\n",
    "\n",
    "time.sleep(2)\n",
    "#pyautogui.typewrite('memo')\n",
    "pyautogui.press('m')\n",
    "pyautogui.press('e')\n",
    "pyautogui.press('m')\n",
    "pyautogui.press('o')"
   ]
  },
  {
   "cell_type": "code",
   "execution_count": null,
   "id": "infrared-international",
   "metadata": {},
   "outputs": [],
   "source": [
    "pyautogui.moveRel(49,-551, duration=1)"
   ]
  },
  {
   "cell_type": "code",
   "execution_count": null,
   "id": "respective-anger",
   "metadata": {},
   "outputs": [],
   "source": [
    "pyautogui.doubleClick()\n",
    "time.sleep(2)"
   ]
  },
  {
   "cell_type": "code",
   "execution_count": null,
   "id": "heavy-scott",
   "metadata": {},
   "outputs": [],
   "source": [
    "pyautogui.press('H')\n",
    "pyautogui.press('e')\n",
    "pyautogui.press('l')\n",
    "pyautogui.press('l')\n",
    "pyautogui.press('o')\n",
    "pyautogui.press(',')\n",
    "pyautogui.press('P')\n",
    "pyautogui.press('y')\n",
    "pyautogui.press('t')\n",
    "pyautogui.press('h')\n",
    "pyautogui.press('o')\n",
    "pyautogui.press('n')\n",
    "pyautogui.press('enter')"
   ]
  },
  {
   "cell_type": "code",
   "execution_count": null,
   "id": "blind-welcome",
   "metadata": {},
   "outputs": [],
   "source": [
    "time.sleep(1)\n",
    "pyperclip.copy(\"こんにちは\")\n",
    "pyautogui.hotkey('ctrl', 'v')"
   ]
  }
 ],
 "metadata": {
  "kernelspec": {
   "display_name": "Python 3",
   "language": "python",
   "name": "python3"
  },
  "language_info": {
   "codemirror_mode": {
    "name": "ipython",
    "version": 3
   },
   "file_extension": ".py",
   "mimetype": "text/x-python",
   "name": "python",
   "nbconvert_exporter": "python",
   "pygments_lexer": "ipython3",
   "version": "3.8.3"
  }
 },
 "nbformat": 4,
 "nbformat_minor": 5
}

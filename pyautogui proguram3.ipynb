{
 "cells": [
  {
   "cell_type": "code",
   "execution_count": 1,
   "id": "irish-handy",
   "metadata": {},
   "outputs": [],
   "source": [
    "import pyautogui\n",
    "import time\n",
    "import pyperclip"
   ]
  },
  {
   "cell_type": "code",
   "execution_count": 2,
   "id": "flexible-journal",
   "metadata": {},
   "outputs": [],
   "source": [
    "pyautogui.moveTo(206,750, duration=0.1)"
   ]
  },
  {
   "cell_type": "code",
   "execution_count": 3,
   "id": "higher-guitar",
   "metadata": {},
   "outputs": [],
   "source": [
    "pyautogui.click()\n",
    "\n",
    "time.sleep(1.5)\n",
    "#pyautogui.typewrite('memo')\n",
    "pyautogui.press('m')\n",
    "pyautogui.press('e')\n",
    "pyautogui.press('m')\n",
    "pyautogui.press('o')"
   ]
  },
  {
   "cell_type": "code",
   "execution_count": 4,
   "id": "potential-perception",
   "metadata": {},
   "outputs": [],
   "source": [
    "pyautogui.moveRel(49,-551, duration=0.4)"
   ]
  },
  {
   "cell_type": "code",
   "execution_count": 5,
   "id": "broadband-scratch",
   "metadata": {},
   "outputs": [],
   "source": [
    "pyautogui.doubleClick()\n",
    "time.sleep(2)"
   ]
  },
  {
   "cell_type": "code",
   "execution_count": 6,
   "id": "private-study",
   "metadata": {},
   "outputs": [],
   "source": [
    "#pyautogui.typewrite('hello')"
   ]
  },
  {
   "cell_type": "code",
   "execution_count": 7,
   "id": "thermal-upgrade",
   "metadata": {},
   "outputs": [],
   "source": [
    "pyautogui.press('H')\n",
    "pyautogui.press('e')\n",
    "pyautogui.press('l')\n",
    "pyautogui.press('l')\n",
    "pyautogui.press('o')\n",
    "pyautogui.press(',')\n",
    "pyautogui.press('P')\n",
    "pyautogui.press('y')\n",
    "pyautogui.press('t')\n",
    "pyautogui.press('h')\n",
    "pyautogui.press('o')\n",
    "pyautogui.press('n')\n",
    "pyautogui.press('enter')\n",
    "pyautogui.press('enter')"
   ]
  },
  {
   "cell_type": "code",
   "execution_count": 8,
   "id": "serial-render",
   "metadata": {},
   "outputs": [],
   "source": [
    "#time.sleep(1)\n",
    "#pyperclip.copy(\"こんにちは\")\n",
    "#pyautogui.hotkey('ctrl', 'v')"
   ]
  },
  {
   "cell_type": "code",
   "execution_count": 9,
   "id": "ideal-application",
   "metadata": {},
   "outputs": [],
   "source": [
    " \n",
    "pyautogui.typewrite(' 1.')\n",
    "pyautogui.press('enter')\n",
    "pyautogui.typewrite(' 2.')\n",
    "pyautogui.press('enter')\n",
    "pyautogui.typewrite(' 3.')\n",
    "pyautogui.press('enter')\n",
    "pyautogui.typewrite(' 4.')\n",
    "pyautogui.press('enter')\n",
    "pyautogui.typewrite(' 5.')\n",
    "pyautogui.press('enter')\n",
    "pyautogui.typewrite(' 6.')\n",
    "pyautogui.press('enter')\n",
    "pyautogui.typewrite(' 7.')\n",
    "pyautogui.press('enter')\n",
    "pyautogui.typewrite(' 8.')\n",
    "pyautogui.press('enter')\n",
    "pyautogui.typewrite(' 9.')\n",
    "pyautogui.press('enter')\n",
    "pyautogui.typewrite('10.')"
   ]
  },
  {
   "cell_type": "code",
   "execution_count": null,
   "id": "unauthorized-airfare",
   "metadata": {},
   "outputs": [],
   "source": []
  },
  {
   "cell_type": "code",
   "execution_count": 10,
   "id": "employed-nurse",
   "metadata": {},
   "outputs": [],
   "source": [
    "for i in range(9):\n",
    "    pyautogui.press('up')\n",
    "\n",
    "for i in range(5):\n",
    "    pyautogui.press('space')\n",
    "\n",
    "for i in range(10):\n",
    "    pyautogui.typewrite('A.')\n",
    "    pyautogui.press('down')\n",
    "    pyautogui.typewrite('     ')"
   ]
  },
  {
   "cell_type": "code",
   "execution_count": null,
   "id": "instructional-assets",
   "metadata": {},
   "outputs": [],
   "source": []
  }
 ],
 "metadata": {
  "kernelspec": {
   "display_name": "Python 3",
   "language": "python",
   "name": "python3"
  },
  "language_info": {
   "codemirror_mode": {
    "name": "ipython",
    "version": 3
   },
   "file_extension": ".py",
   "mimetype": "text/x-python",
   "name": "python",
   "nbconvert_exporter": "python",
   "pygments_lexer": "ipython3",
   "version": "3.8.3"
  }
 },
 "nbformat": 4,
 "nbformat_minor": 5
}

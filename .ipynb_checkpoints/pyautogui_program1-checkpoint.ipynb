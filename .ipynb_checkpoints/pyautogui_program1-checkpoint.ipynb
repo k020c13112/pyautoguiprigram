{
 "cells": [
  {
   "cell_type": "code",
   "execution_count": 41,
   "id": "registered-heath",
   "metadata": {},
   "outputs": [],
   "source": [
    "import pyautogui\n",
    "import time\n",
    "import pyperclip\n",
    "pyautogui.moveTo(206,750, duration=0.1)"
   ]
  },
  {
   "cell_type": "code",
   "execution_count": 42,
   "id": "macro-preview",
   "metadata": {},
   "outputs": [],
   "source": [
    "pyautogui.click()\n",
    "\n",
    "time.sleep(1.5)\n",
    "#pyautogui.typewrite('memo')\n",
    "pyautogui.press('m')\n",
    "pyautogui.press('e')\n",
    "pyautogui.press('m')\n",
    "pyautogui.press('o')\n"
   ]
  },
  {
   "cell_type": "code",
   "execution_count": 43,
   "id": "sophisticated-cabin",
   "metadata": {},
   "outputs": [],
   "source": [
    "pyautogui.moveRel(49,-551, duration=0.7)"
   ]
  },
  {
   "cell_type": "code",
   "execution_count": 44,
   "id": "medium-tanzania",
   "metadata": {},
   "outputs": [],
   "source": [
    "pyautogui.doubleClick()\n",
    "time.sleep(2)"
   ]
  },
  {
   "cell_type": "code",
   "execution_count": 45,
   "id": "associate-exemption",
   "metadata": {},
   "outputs": [],
   "source": [
    "#pyautogui.typewrite('hello')"
   ]
  },
  {
   "cell_type": "code",
   "execution_count": 46,
   "id": "gentle-royalty",
   "metadata": {},
   "outputs": [],
   "source": [
    "pyautogui.press('H')\n",
    "pyautogui.press('e')\n",
    "pyautogui.press('l')\n",
    "pyautogui.press('l')\n",
    "pyautogui.press('o')\n",
    "pyautogui.press(',')\n",
    "pyautogui.press('P')\n",
    "pyautogui.press('y')\n",
    "pyautogui.press('t')\n",
    "pyautogui.press('h')\n",
    "pyautogui.press('o')\n",
    "pyautogui.press('n')\n",
    "pyautogui.press('enter')\n",
    "\n"
   ]
  },
  {
   "cell_type": "code",
   "execution_count": 47,
   "id": "southwest-birmingham",
   "metadata": {},
   "outputs": [],
   "source": [
    "time.sleep(1)\n",
    "pyperclip.copy(\"こんにちは\")\n",
    "pyautogui.hotkey('ctrl', 'v')"
   ]
  },
  {
   "cell_type": "code",
   "execution_count": null,
   "id": "improving-veteran",
   "metadata": {},
   "outputs": [],
   "source": []
  },
  {
   "cell_type": "code",
   "execution_count": null,
   "id": "latest-writing",
   "metadata": {},
   "outputs": [],
   "source": []
  },
  {
   "cell_type": "code",
   "execution_count": null,
   "id": "persistent-republic",
   "metadata": {},
   "outputs": [],
   "source": []
  },
  {
   "cell_type": "code",
   "execution_count": null,
   "id": "complicated-steering",
   "metadata": {},
   "outputs": [],
   "source": []
  }
 ],
 "metadata": {
  "kernelspec": {
   "display_name": "Python 3",
   "language": "python",
   "name": "python3"
  },
  "language_info": {
   "codemirror_mode": {
    "name": "ipython",
    "version": 3
   },
   "file_extension": ".py",
   "mimetype": "text/x-python",
   "name": "python",
   "nbconvert_exporter": "python",
   "pygments_lexer": "ipython3",
   "version": "3.8.3"
  }
 },
 "nbformat": 4,
 "nbformat_minor": 5
}

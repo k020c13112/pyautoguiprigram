{
 "cells": [
  {
   "cell_type": "code",
   "execution_count": null,
   "id": "aging-harvard",
   "metadata": {
    "scrolled": true
   },
   "outputs": [],
   "source": [
    "pip install pyautogui"
   ]
  },
  {
   "cell_type": "code",
   "execution_count": null,
   "id": "coastal-meeting",
   "metadata": {},
   "outputs": [],
   "source": [
    "import pyautogui\n",
    "#マウスの位置を確認する\n",
    "pyautogui.position()"
   ]
  },
  {
   "cell_type": "code",
   "execution_count": null,
   "id": "forty-province",
   "metadata": {},
   "outputs": [],
   "source": [
    "#画面のサイズを確認する\n",
    "pyautogui.size()"
   ]
  },
  {
   "cell_type": "code",
   "execution_count": null,
   "id": "demanding-composite",
   "metadata": {},
   "outputs": [],
   "source": [
    "#操作間の間隔をあける（PCの負担を減らすため）\n",
    "pyautogui.PAUSE = 2.5"
   ]
  },
  {
   "cell_type": "code",
   "execution_count": null,
   "id": "material-diamond",
   "metadata": {},
   "outputs": [],
   "source": [
    "#マウスカーソルを右に500px、左に500pxの位置へ10秒間かけて移動する\n",
    "pyautogui.moveRel(500, 500, duration=10)"
   ]
  },
  {
   "cell_type": "code",
   "execution_count": null,
   "id": "responsible-cross",
   "metadata": {},
   "outputs": [],
   "source": [
    "pyautogui.moveRel(500, 500, duration=1)"
   ]
  },
  {
   "cell_type": "code",
   "execution_count": null,
   "id": "hidden-remove",
   "metadata": {},
   "outputs": [],
   "source": [
    "#絶対座標へドラッグ\n",
    "　#2秒かけて左方向へ、x軸300px、y軸400px分ドラッグ\n",
    "pyautogui.dragTo(300, 400, 2, button='left')"
   ]
  },
  {
   "cell_type": "code",
   "execution_count": null,
   "id": "express-limit",
   "metadata": {},
   "outputs": [],
   "source": [
    "#相対座標へドラッグ\n",
    "  #2秒かけて、右方向へ、X軸300px、Y軸400px分ドラッグ\n",
    "pyautogui.dragRel(300, 400, 2, button='right')"
   ]
  },
  {
   "cell_type": "code",
   "execution_count": null,
   "id": "complimentary-angel",
   "metadata": {},
   "outputs": [],
   "source": [
    "#マウスクリック\n",
    "pyautogui.click(x=700, y=700, clicks=1, interval=1, button='left')"
   ]
  },
  {
   "cell_type": "code",
   "execution_count": null,
   "id": "raised-sleeping",
   "metadata": {},
   "outputs": [],
   "source": [
    "#マウスを右クリック\n",
    "pyautogui.rightClick(x=700, y=700)"
   ]
  },
  {
   "cell_type": "code",
   "execution_count": null,
   "id": "nervous-large",
   "metadata": {},
   "outputs": [],
   "source": [
    "#自動操作でスクロールさせる\n",
    "pyautogui.scroll(10, x=200, y=200)"
   ]
  },
  {
   "cell_type": "code",
   "execution_count": null,
   "id": "floral-berlin",
   "metadata": {},
   "outputs": [],
   "source": [
    "#自動でダブルクリック\n",
    "pyautogui.doubleClick()"
   ]
  },
  {
   "cell_type": "code",
   "execution_count": null,
   "id": "relevant-silence",
   "metadata": {},
   "outputs": [],
   "source": []
  },
  {
   "cell_type": "code",
   "execution_count": null,
   "id": "empty-croatia",
   "metadata": {},
   "outputs": [],
   "source": []
  },
  {
   "cell_type": "code",
   "execution_count": null,
   "id": "governmental-cooperative",
   "metadata": {},
   "outputs": [],
   "source": []
  }
 ],
 "metadata": {
  "kernelspec": {
   "display_name": "Python 3",
   "language": "python",
   "name": "python3"
  },
  "language_info": {
   "codemirror_mode": {
    "name": "ipython",
    "version": 3
   },
   "file_extension": ".py",
   "mimetype": "text/x-python",
   "name": "python",
   "nbconvert_exporter": "python",
   "pygments_lexer": "ipython3",
   "version": "3.8.3"
  }
 },
 "nbformat": 4,
 "nbformat_minor": 5
}
